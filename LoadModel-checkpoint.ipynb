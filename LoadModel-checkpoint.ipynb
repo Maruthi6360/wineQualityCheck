{
 "cells": [
  {
   "cell_type": "markdown",
   "id": "f39434be-8105-4043-999d-e051bb9d8bef",
   "metadata": {},
   "source": [
    "**What your friend will do(when you shared the model) :**"
   ]
  },
  {
   "cell_type": "code",
   "execution_count": 2,
   "id": "d5d4cab8-872e-4f82-b83d-16b7987c9ac5",
   "metadata": {},
   "outputs": [],
   "source": [
    "# First he import the packages\n",
    "# He read the data\n",
    "# Load the model\n",
    "# pass the test data\n",
    "# get the predictions"
   ]
  },
  {
   "cell_type": "markdown",
   "id": "e9374852-77ef-46c3-8309-e9b1dbb67dc2",
   "metadata": {},
   "source": [
    "*Step-1:*"
   ]
  },
  {
   "cell_type": "code",
   "execution_count": 5,
   "id": "3b11c1f1-1011-4f8e-9755-a65ed1af302b",
   "metadata": {},
   "outputs": [],
   "source": [
    "import numpy as np\n",
    "import matplotlib.pyplot as plt\n",
    "import pandas as pd\n",
    "import seaborn as sns\n",
    "import warnings\n",
    "warnings.filterwarnings('ignore')"
   ]
  },
  {
   "cell_type": "markdown",
   "id": "e522b975-35e6-4b11-abee-4d2a55e077bb",
   "metadata": {},
   "source": [
    "*Step-2:*"
   ]
  },
  {
   "cell_type": "code",
   "execution_count": 8,
   "id": "723b4068-59f0-40e7-9907-8a7654c412b7",
   "metadata": {},
   "outputs": [
    {
     "data": {
      "text/html": [
       "<div>\n",
       "<style scoped>\n",
       "    .dataframe tbody tr th:only-of-type {\n",
       "        vertical-align: middle;\n",
       "    }\n",
       "\n",
       "    .dataframe tbody tr th {\n",
       "        vertical-align: top;\n",
       "    }\n",
       "\n",
       "    .dataframe thead th {\n",
       "        text-align: right;\n",
       "    }\n",
       "</style>\n",
       "<table border=\"1\" class=\"dataframe\">\n",
       "  <thead>\n",
       "    <tr style=\"text-align: right;\">\n",
       "      <th></th>\n",
       "      <th>fixed acidity</th>\n",
       "      <th>volatile acidity</th>\n",
       "      <th>citric acid</th>\n",
       "      <th>residual sugar</th>\n",
       "      <th>chlorides</th>\n",
       "      <th>free sulfur dioxide</th>\n",
       "      <th>total sulfur dioxide</th>\n",
       "      <th>density</th>\n",
       "      <th>pH</th>\n",
       "      <th>sulphates</th>\n",
       "      <th>alcohol</th>\n",
       "      <th>quality</th>\n",
       "    </tr>\n",
       "  </thead>\n",
       "  <tbody>\n",
       "    <tr>\n",
       "      <th>0</th>\n",
       "      <td>7.4</td>\n",
       "      <td>0.70</td>\n",
       "      <td>0.00</td>\n",
       "      <td>1.9</td>\n",
       "      <td>0.076</td>\n",
       "      <td>11.0</td>\n",
       "      <td>34.0</td>\n",
       "      <td>0.9978</td>\n",
       "      <td>3.51</td>\n",
       "      <td>0.56</td>\n",
       "      <td>9.4</td>\n",
       "      <td>5</td>\n",
       "    </tr>\n",
       "    <tr>\n",
       "      <th>1</th>\n",
       "      <td>7.8</td>\n",
       "      <td>0.88</td>\n",
       "      <td>0.00</td>\n",
       "      <td>2.6</td>\n",
       "      <td>0.098</td>\n",
       "      <td>25.0</td>\n",
       "      <td>67.0</td>\n",
       "      <td>0.9968</td>\n",
       "      <td>3.20</td>\n",
       "      <td>0.68</td>\n",
       "      <td>9.8</td>\n",
       "      <td>5</td>\n",
       "    </tr>\n",
       "    <tr>\n",
       "      <th>2</th>\n",
       "      <td>7.8</td>\n",
       "      <td>0.76</td>\n",
       "      <td>0.04</td>\n",
       "      <td>2.3</td>\n",
       "      <td>0.092</td>\n",
       "      <td>15.0</td>\n",
       "      <td>54.0</td>\n",
       "      <td>0.9970</td>\n",
       "      <td>3.26</td>\n",
       "      <td>0.65</td>\n",
       "      <td>9.8</td>\n",
       "      <td>5</td>\n",
       "    </tr>\n",
       "    <tr>\n",
       "      <th>3</th>\n",
       "      <td>11.2</td>\n",
       "      <td>0.28</td>\n",
       "      <td>0.56</td>\n",
       "      <td>1.9</td>\n",
       "      <td>0.075</td>\n",
       "      <td>17.0</td>\n",
       "      <td>60.0</td>\n",
       "      <td>0.9980</td>\n",
       "      <td>3.16</td>\n",
       "      <td>0.58</td>\n",
       "      <td>9.8</td>\n",
       "      <td>6</td>\n",
       "    </tr>\n",
       "    <tr>\n",
       "      <th>4</th>\n",
       "      <td>7.4</td>\n",
       "      <td>0.70</td>\n",
       "      <td>0.00</td>\n",
       "      <td>1.9</td>\n",
       "      <td>0.076</td>\n",
       "      <td>11.0</td>\n",
       "      <td>34.0</td>\n",
       "      <td>0.9978</td>\n",
       "      <td>3.51</td>\n",
       "      <td>0.56</td>\n",
       "      <td>9.4</td>\n",
       "      <td>5</td>\n",
       "    </tr>\n",
       "  </tbody>\n",
       "</table>\n",
       "</div>"
      ],
      "text/plain": [
       "   fixed acidity  volatile acidity  citric acid  residual sugar  chlorides  \\\n",
       "0            7.4              0.70         0.00             1.9      0.076   \n",
       "1            7.8              0.88         0.00             2.6      0.098   \n",
       "2            7.8              0.76         0.04             2.3      0.092   \n",
       "3           11.2              0.28         0.56             1.9      0.075   \n",
       "4            7.4              0.70         0.00             1.9      0.076   \n",
       "\n",
       "   free sulfur dioxide  total sulfur dioxide  density    pH  sulphates  \\\n",
       "0                 11.0                  34.0   0.9978  3.51       0.56   \n",
       "1                 25.0                  67.0   0.9968  3.20       0.68   \n",
       "2                 15.0                  54.0   0.9970  3.26       0.65   \n",
       "3                 17.0                  60.0   0.9980  3.16       0.58   \n",
       "4                 11.0                  34.0   0.9978  3.51       0.56   \n",
       "\n",
       "   alcohol  quality  \n",
       "0      9.4        5  \n",
       "1      9.8        5  \n",
       "2      9.8        5  \n",
       "3      9.8        6  \n",
       "4      9.4        5  "
      ]
     },
     "execution_count": 8,
     "metadata": {},
     "output_type": "execute_result"
    }
   ],
   "source": [
    "df = pd.read_csv('winequality-red.csv')\n",
    "df.head()"
   ]
  },
  {
   "cell_type": "markdown",
   "id": "5cd6036b-1f0a-4bf7-b321-17afeaa2e568",
   "metadata": {},
   "source": [
    "*Step-3:*\n",
    "\n",
    "**Load The Model**"
   ]
  },
  {
   "cell_type": "code",
   "execution_count": 11,
   "id": "ad60872c-1891-4c8e-9fee-c1688335d8fd",
   "metadata": {},
   "outputs": [],
   "source": [
    "import pickle\n"
   ]
  },
  {
   "cell_type": "code",
   "execution_count": 15,
   "id": "bf052ce9-1b00-4213-a3f3-3eb144e4043b",
   "metadata": {},
   "outputs": [],
   "source": [
    "saved_model=pickle.load(open('wineQualityCheckModel.pkl','rb')) #rb=> read bits(bits bcs it is in encoded \n",
    "#format) now i loaded model now i need to pass the data to predict the value"
   ]
  },
  {
   "cell_type": "code",
   "execution_count": 29,
   "id": "5ef4e753-92d1-4522-a99b-90cd2e575973",
   "metadata": {},
   "outputs": [
    {
     "data": {
      "text/plain": [
       "array([-43.5542448])"
      ]
     },
     "execution_count": 29,
     "metadata": {},
     "output_type": "execute_result"
    }
   ],
   "source": [
    "list_val=[[2,0.5,0.4,5,6,77,0.8,3.52,0.5,9.4,3]] #passing list of 1 test input\n",
    "#passing the single line of data to check the prediction is called \"End \"\n",
    "li_df = pd.DataFrame(list_val)\n",
    "saved_model.predict(li_df)"
   ]
  },
  {
   "cell_type": "code",
   "execution_count": 47,
   "id": "0baa9e03-1709-4fa6-a9ab-40bbd5faff2a",
   "metadata": {},
   "outputs": [],
   "source": [
    "X_test=df.drop('quality',axis=1).values[1]"
   ]
  },
  {
   "cell_type": "code",
   "execution_count": 49,
   "id": "2555884d-bf56-4698-9c3b-6c5c1d6d9ffa",
   "metadata": {},
   "outputs": [
    {
     "data": {
      "text/plain": [
       "array([ 7.8   ,  0.88  ,  0.    ,  2.6   ,  0.098 , 25.    , 67.    ,\n",
       "        0.9968,  3.2   ,  0.68  ,  9.8   ])"
      ]
     },
     "execution_count": 49,
     "metadata": {},
     "output_type": "execute_result"
    }
   ],
   "source": [
    "X_test #now i will pass this data to check my model predicts the quality=5 or not"
   ]
  },
  {
   "cell_type": "code",
   "execution_count": 53,
   "id": "de5a683c-ec2e-45f5-9a1d-6f3584436846",
   "metadata": {},
   "outputs": [
    {
     "data": {
      "text/plain": [
       "array([5.12275094])"
      ]
     },
     "execution_count": 53,
     "metadata": {},
     "output_type": "execute_result"
    }
   ],
   "source": [
    "saved_model.predict([X_test]) #ok it is predicting 5.12275094 approximate value to 5"
   ]
  },
  {
   "cell_type": "markdown",
   "id": "dee3fc3f-1e16-4817-b44f-afb5414492f1",
   "metadata": {},
   "source": [
    "**We have coefficients for all 11 features and also we intercept(beta 0(b0))**"
   ]
  },
  {
   "cell_type": "code",
   "execution_count": 56,
   "id": "f3139dc6-71dc-416d-b96c-33db92f52fd2",
   "metadata": {},
   "outputs": [
    {
     "data": {
      "text/plain": [
       "array([ 1.30286848e-02, -1.08686529e+00, -1.06733841e-01,  1.56488869e-02,\n",
       "       -1.69148075e+00,  4.82427344e-03, -3.64992541e-03, -1.83253991e+01,\n",
       "       -4.41797201e-01,  8.50079329e-01,  2.77289269e-01])"
      ]
     },
     "execution_count": 56,
     "metadata": {},
     "output_type": "execute_result"
    }
   ],
   "source": [
    "saved_model.coef_ #These are produced by \"Gradient descent\" not by \"OLS\" method"
   ]
  },
  {
   "cell_type": "code",
   "execution_count": null,
   "id": "0c7ff4dd-a24a-4c73-9663-e2fc45e44f81",
   "metadata": {},
   "outputs": [],
   "source": [
    "# Those above are the coefficients of our 11 features/variables"
   ]
  },
  {
   "cell_type": "markdown",
   "id": "43e9e85a-08e8-4222-b55f-a5fab079e584",
   "metadata": {},
   "source": [
    "**Intercept/beta not(b0) is :**"
   ]
  },
  {
   "cell_type": "code",
   "execution_count": 59,
   "id": "285529c7-7490-4521-a719-9d6552b1c225",
   "metadata": {},
   "outputs": [
    {
     "data": {
      "text/plain": [
       "22.611604916395414"
      ]
     },
     "execution_count": 59,
     "metadata": {},
     "output_type": "execute_result"
    }
   ],
   "source": [
    "saved_model.intercept_"
   ]
  },
  {
   "cell_type": "code",
   "execution_count": null,
   "id": "1ae8b93e-efdb-41a6-984d-fb3a1e28c815",
   "metadata": {},
   "outputs": [],
   "source": []
  },
  {
   "cell_type": "code",
   "execution_count": null,
   "id": "3501f0bd-bc70-49cd-a93a-0ce4d4010e30",
   "metadata": {},
   "outputs": [],
   "source": []
  },
  {
   "cell_type": "code",
   "execution_count": null,
   "id": "6cd38afd-6fe3-475d-acc6-96358aee3bb6",
   "metadata": {},
   "outputs": [],
   "source": []
  },
  {
   "cell_type": "code",
   "execution_count": null,
   "id": "36a10df9-126f-434e-a665-2a34af6ee866",
   "metadata": {},
   "outputs": [],
   "source": []
  },
  {
   "cell_type": "code",
   "execution_count": null,
   "id": "ec2c1f79-fd7c-4bc2-b44a-c69433dcfb76",
   "metadata": {},
   "outputs": [],
   "source": []
  },
  {
   "cell_type": "code",
   "execution_count": null,
   "id": "23f46542-f3a5-4ab1-bdb7-baf67c56e2f5",
   "metadata": {},
   "outputs": [],
   "source": []
  }
 ],
 "metadata": {
  "kernelspec": {
   "display_name": "Python 3 (ipykernel)",
   "language": "python",
   "name": "python3"
  },
  "language_info": {
   "codemirror_mode": {
    "name": "ipython",
    "version": 3
   },
   "file_extension": ".py",
   "mimetype": "text/x-python",
   "name": "python",
   "nbconvert_exporter": "python",
   "pygments_lexer": "ipython3",
   "version": "3.12.4"
  }
 },
 "nbformat": 4,
 "nbformat_minor": 5
}
